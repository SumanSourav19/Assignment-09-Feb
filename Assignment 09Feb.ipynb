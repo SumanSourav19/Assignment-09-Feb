{
 "cells": [
  {
   "cell_type": "markdown",
   "id": "2d40c7fc-3ad1-44af-9932-354080205219",
   "metadata": {},
   "source": [
    "Q1) Create a vehicle class with an init method having instance variables as name_of_vehicle, max_speed\n",
    "and average_of_vehicle."
   ]
  },
  {
   "cell_type": "code",
   "execution_count": 39,
   "id": "3b4bfc71-dff5-41de-8904-4264a31199fe",
   "metadata": {},
   "outputs": [],
   "source": [
    "class Vehicle:\n",
    "    def __init__(self, name_of_vehicle, max_speed, average_of_vehicle):\n",
    "        self.name_of_vehicle = name_of_vehicle\n",
    "        self.max_speed = max_speed\n",
    "        self.average_of_vehicle = average_of_vehicle\n",
    "        \n",
    "    def car_details(self):\n",
    "        print(self.name_of_vehicle, self.max_speed, self.average_of_vehicle)\n",
    "    \n"
   ]
  },
  {
   "cell_type": "code",
   "execution_count": 34,
   "id": "824b2164-19b3-4a41-909f-feb7eceaecde",
   "metadata": {},
   "outputs": [],
   "source": [
    "car = Vehicle(\"BMW 620d\", 200, 12)"
   ]
  },
  {
   "cell_type": "code",
   "execution_count": 36,
   "id": "c57a435d-e526-42ea-bb72-1e5f3e3f75fe",
   "metadata": {},
   "outputs": [
    {
     "data": {
      "text/plain": [
       "'BMW 620d'"
      ]
     },
     "execution_count": 36,
     "metadata": {},
     "output_type": "execute_result"
    }
   ],
   "source": [
    "car.name_of_vehicle"
   ]
  },
  {
   "cell_type": "code",
   "execution_count": 37,
   "id": "5011200e-d79f-42af-b1c9-31ab523bfc27",
   "metadata": {},
   "outputs": [
    {
     "data": {
      "text/plain": [
       "200"
      ]
     },
     "execution_count": 37,
     "metadata": {},
     "output_type": "execute_result"
    }
   ],
   "source": [
    "car.max_speed"
   ]
  },
  {
   "cell_type": "code",
   "execution_count": 38,
   "id": "07278016-0eaa-45fb-be9f-88b157845f1e",
   "metadata": {},
   "outputs": [
    {
     "data": {
      "text/plain": [
       "12"
      ]
     },
     "execution_count": 38,
     "metadata": {},
     "output_type": "execute_result"
    }
   ],
   "source": [
    "car.average_of_vehicle"
   ]
  },
  {
   "cell_type": "markdown",
   "id": "da25af26-0bb8-44b5-aee5-05efdfe6b24d",
   "metadata": {},
   "source": [
    "Q2) Create a child class car from the vehicle class created in Que 1, which will inherit the vehicle class.\n",
    "Create a method named seating_capacity which takes capacity as an argument and returns the name of\n",
    "the vehicle and its seating capacity."
   ]
  },
  {
   "cell_type": "code",
   "execution_count": 121,
   "id": "a35297d0-218a-4896-8286-7509508efaa2",
   "metadata": {},
   "outputs": [
    {
     "name": "stdout",
     "output_type": "stream",
     "text": [
      "The seating capacity of a Audi Q3 is 5 passengers\n"
     ]
    }
   ],
   "source": [
    "class Vehicle:\n",
    "    def __init__(self, name_of_vehicle, max_speed, average_of_vehicle):\n",
    "        self.name_of_vehicle = name_of_vehicle\n",
    "        self.max_speed = max_speed\n",
    "        self.average_of_vehicle = average_of_vehicle\n",
    "        \n",
    "    def seating_capacity(self, capacity):\n",
    "        return f\"The seating capacity of a {self.name_of_vehicle} is {capacity} passengers\"\n",
    "    \n",
    "class Car(Vehicle):\n",
    "     def seating_capacity(self, capacity=5):\n",
    "        return super().seating_capacity(capacity=5)\n",
    "   \n",
    "Car_details = Car(\"Audi Q3\", 180, 12)\n",
    "print(Car_details.seating_capacity())\n",
    "  "
   ]
  },
  {
   "cell_type": "markdown",
   "id": "c9b17fca-e00d-4ca6-b2bc-0b2a1f2bbfdb",
   "metadata": {},
   "source": [
    "Q3) What is multiple inheritance? Write a python code to demonstrate multiple inheritance."
   ]
  },
  {
   "cell_type": "markdown",
   "id": "6c309e69-a3c6-4f58-aef7-6015f9dc19d4",
   "metadata": {},
   "source": [
    "Ans) The ability of a class to inherit more than one class is called Multiple Inheritance."
   ]
  },
  {
   "cell_type": "code",
   "execution_count": 70,
   "id": "b53aa396-0b04-4a06-8818-b80a83e1161a",
   "metadata": {},
   "outputs": [
    {
     "name": "stdout",
     "output_type": "stream",
     "text": [
      "In class Parent1\n",
      "In class Parent2\n"
     ]
    }
   ],
   "source": [
    "class Parent1:\n",
    "   def display1(self):\n",
    "       print(\"In class Parent1\")\n",
    "class Parent2:\n",
    "   def display2(self):\n",
    "       print(\"In class Parent2\")\n",
    "class Child(Parent1, Parent2):\n",
    "   pass\n",
    "obj = Child()\n",
    "obj.display1()\n",
    "obj.display2()"
   ]
  },
  {
   "cell_type": "markdown",
   "id": "62235c38-41b5-4e68-abe0-04099a0bfd8a",
   "metadata": {},
   "source": [
    "Q4) What are getter and setter in python? Create a class and create a getter and a setter method in this\n",
    "class."
   ]
  },
  {
   "cell_type": "markdown",
   "id": "f58c9234-c076-4cf8-9bba-718d56e4ef3d",
   "metadata": {},
   "source": [
    "Ans) getters and setters are not the same as those in other object-oriented programming languages. Basically, the main purpose of using getters and setters in object-oriented programs is to ensure data encapsulation. Private variables in python are not actually hidden fields like in other object oriented languages. Getters and Setters in python are often used when:\n",
    "\n",
    "a )We use getters & setters to add validation logic around getting and setting a value.\n",
    "\n",
    "b) To avoid direct access of a class field i.e. private variables cannot be accessed directly or modified by external user."
   ]
  },
  {
   "cell_type": "code",
   "execution_count": 128,
   "id": "3f229f8e-248d-4b31-8e77-80367c06859d",
   "metadata": {},
   "outputs": [
    {
     "name": "stdout",
     "output_type": "stream",
     "text": [
      "21\n",
      "21\n"
     ]
    }
   ],
   "source": [
    "class Geek:\n",
    "    def __init__(self, age = 0):\n",
    "         self._age = age\n",
    "      \n",
    "    # getter method\n",
    "    def get_age(self):\n",
    "        return self._age\n",
    "      \n",
    "    # setter method\n",
    "    def set_age(self, x):\n",
    "        self._age = x\n",
    "  \n",
    "Rohan = Geek()\n",
    "  \n",
    "\n",
    "Rohan.set_age(21)\n",
    "  \n",
    "\n",
    "print(Rohan.get_age())\n",
    "  \n",
    "print(Rohan._age)"
   ]
  },
  {
   "cell_type": "markdown",
   "id": "1efa9c9e-af71-4bfd-b4e2-b3bc89bb18c5",
   "metadata": {},
   "source": [
    "Q5.What is method overriding in python? Write a python code to demonstrate method overriding."
   ]
  },
  {
   "cell_type": "markdown",
   "id": "41332f18-0660-4877-b324-0d0e96e15b75",
   "metadata": {},
   "source": [
    "Ans) Method overriding is an ability of any object-oriented programming language that allows a subclass or child class to provide a specific implementation of a method that is already provided by one of its super-classes or parent classes. When a method in a subclass has the same name, same parameters or signature and same return type(or sub-type) as a method in its super-class, then the method in the subclass is said to override the method in the super-class."
   ]
  },
  {
   "cell_type": "code",
   "execution_count": 129,
   "id": "66bf74e2-5960-46c8-95c1-9173b7758abf",
   "metadata": {},
   "outputs": [],
   "source": [
    "class Parent():\n",
    "      \n",
    "    # Constructor\n",
    "    def __init__(self):\n",
    "        self.value = \"Inside Parent\"\n",
    "          \n",
    "    # Parent's show method\n",
    "    def show(self):\n",
    "        print(self.value)\n",
    "          \n",
    "# Defining child class\n",
    "class Child(Parent):\n",
    "      \n",
    "    # Constructor\n",
    "    def __init__(self):\n",
    "        self.value = \"Inside Child\"\n",
    "          \n",
    "    # Child's show method\n",
    "    def show(self):\n",
    "        print(self.value)"
   ]
  },
  {
   "cell_type": "code",
   "execution_count": 130,
   "id": "97a94a8b-0adb-43f3-9d72-7dd1d72a8e04",
   "metadata": {},
   "outputs": [
    {
     "name": "stdout",
     "output_type": "stream",
     "text": [
      "Inside Parent\n",
      "Inside Child\n"
     ]
    }
   ],
   "source": [
    "obj1 = Parent()\n",
    "obj2 = Child()\n",
    "  \n",
    "obj1.show()\n",
    "obj2.show()"
   ]
  },
  {
   "cell_type": "code",
   "execution_count": null,
   "id": "6d4c3d83-760d-4032-99c9-f98408ab6eb4",
   "metadata": {},
   "outputs": [],
   "source": []
  }
 ],
 "metadata": {
  "kernelspec": {
   "display_name": "Python 3 (ipykernel)",
   "language": "python",
   "name": "python3"
  },
  "language_info": {
   "codemirror_mode": {
    "name": "ipython",
    "version": 3
   },
   "file_extension": ".py",
   "mimetype": "text/x-python",
   "name": "python",
   "nbconvert_exporter": "python",
   "pygments_lexer": "ipython3",
   "version": "3.10.8"
  }
 },
 "nbformat": 4,
 "nbformat_minor": 5
}
